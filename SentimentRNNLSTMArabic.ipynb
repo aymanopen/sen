{
 "cells": [
  {
   "cell_type": "code",
   "execution_count": 1,
   "metadata": {},
   "outputs": [
    {
     "name": "stderr",
     "output_type": "stream",
     "text": [
      "/home/aa/anaconda3/lib/python3.6/site-packages/h5py/__init__.py:34: FutureWarning: Conversion of the second argument of issubdtype from `float` to `np.floating` is deprecated. In future, it will be treated as `np.float64 == np.dtype(float).type`.\n",
      "  from ._conv import register_converters as _register_converters\n",
      "Using TensorFlow backend.\n"
     ]
    }
   ],
   "source": [
    "from keras.layers.core import Activation, Dense, Dropout, SpatialDropout1D\n",
    "from keras.layers.embeddings import Embedding\n",
    "from keras.layers.recurrent import LSTM\n",
    "from keras.models import Sequential\n",
    "from keras.preprocessing import sequence\n",
    "from sklearn.model_selection import train_test_split\n",
    "import collections\n",
    "import matplotlib.pyplot as plt\n",
    "import nltk\n",
    "import numpy as np\n",
    "import os\n"
   ]
  },
  {
   "cell_type": "code",
   "execution_count": null,
   "metadata": {
    "collapsed": true
   },
   "outputs": [],
   "source": []
  },
  {
   "cell_type": "code",
   "execution_count": 2,
   "metadata": {
    "collapsed": true
   },
   "outputs": [],
   "source": [
    "DATA_DIR='Data Mining/mini-project-sentiment'"
   ]
  },
  {
   "cell_type": "code",
   "execution_count": 7,
   "metadata": {
    "collapsed": true
   },
   "outputs": [],
   "source": [
    "maxlen = 0\n",
    "word_freqs = collections.Counter()\n",
    "num_recs = 0\n",
    "ftrain = open(os.path.join(DATA_DIR, \"afterprep637ts.csv\"), 'rb')\n",
    "for line in ftrain:\n",
    "    label, sentence = line.strip().split(b\"\\t\")\n",
    "    words = nltk.word_tokenize(sentence.decode(\"ascii\", \"ignore\").lower())\n",
    "    if len(words) > maxlen:\n",
    "        maxlen = len(words)\n",
    "    for word in words:\n",
    "        word_freqs[word] += 1\n",
    "    num_recs += 1\n",
    "ftrain.close()\n"
   ]
  },
  {
   "cell_type": "code",
   "execution_count": 8,
   "metadata": {
    "collapsed": true
   },
   "outputs": [],
   "source": [
    "MAX_FEATURES = 2000\n",
    "MAX_SENTENCE_LENGTH = 40"
   ]
  },
  {
   "cell_type": "code",
   "execution_count": 10,
   "metadata": {
    "collapsed": true
   },
   "outputs": [],
   "source": [
    "vocab_size = min(MAX_FEATURES, len(word_freqs)) + 2\n",
    "word2index = {x[0]: i+2 for i, x in\n",
    "enumerate(word_freqs.most_common(MAX_FEATURES))}\n",
    "word2index[\"PAD\"] = 0\n",
    "word2index[\"UNK\"] = 1\n",
    "index2word = {v:k for k, v in word2index.items()}\n"
   ]
  },
  {
   "cell_type": "code",
   "execution_count": 11,
   "metadata": {
    "collapsed": true
   },
   "outputs": [],
   "source": [
    "X = np.empty((num_recs, ), dtype=list)\n",
    "y = np.zeros((num_recs, ))\n",
    "i = 0\n",
    "ftrain = open(os.path.join(DATA_DIR, \"afterprep637ts.csv\"), 'rb')\n",
    "for line in ftrain:\n",
    "    label, sentence = line.strip().split(b\"\\t\")\n",
    "    words = nltk.word_tokenize(sentence.decode(\"ascii\", \"ignore\").lower())\n",
    "    seqs = []\n",
    "    for word in words:\n",
    "        if word in word2index:\n",
    "            seqs.append(word2index[word])\n",
    "        else:\n",
    "            seqs.append(word2index[\"UNK\"])\n",
    "    X[i] = seqs\n",
    "    y[i] = int(label)\n",
    "    i += 1\n",
    "ftrain.close()\n",
    "X = sequence.pad_sequences(X, maxlen=MAX_SENTENCE_LENGTH)\n"
   ]
  },
  {
   "cell_type": "code",
   "execution_count": 26,
   "metadata": {
    "collapsed": true
   },
   "outputs": [],
   "source": [
    "from keras.utils import to_categorical\n",
    "y_binary = to_categorical(y)"
   ]
  },
  {
   "cell_type": "code",
   "execution_count": 27,
   "metadata": {},
   "outputs": [
    {
     "data": {
      "text/plain": [
       "array([[1., 0., 0.],\n",
       "       [0., 1., 0.],\n",
       "       [0., 1., 0.],\n",
       "       ...,\n",
       "       [0., 1., 0.],\n",
       "       [1., 0., 0.],\n",
       "       [0., 0., 1.]], dtype=float32)"
      ]
     },
     "execution_count": 27,
     "metadata": {},
     "output_type": "execute_result"
    }
   ],
   "source": [
    "y_binary"
   ]
  },
  {
   "cell_type": "code",
   "execution_count": 28,
   "metadata": {
    "collapsed": true
   },
   "outputs": [],
   "source": [
    "Xtrain, Xtest, ytrain, ytest = train_test_split(X, y_binary, test_size=0.2, random_state=42)\n"
   ]
  },
  {
   "cell_type": "code",
   "execution_count": 29,
   "metadata": {},
   "outputs": [
    {
     "data": {
      "text/plain": [
       "array([[1., 0., 0.],\n",
       "       [0., 1., 0.],\n",
       "       [0., 1., 0.],\n",
       "       ...,\n",
       "       [0., 1., 0.],\n",
       "       [0., 1., 0.],\n",
       "       [0., 1., 0.]], dtype=float32)"
      ]
     },
     "execution_count": 29,
     "metadata": {},
     "output_type": "execute_result"
    }
   ],
   "source": [
    "ytrain"
   ]
  },
  {
   "cell_type": "code",
   "execution_count": 30,
   "metadata": {
    "collapsed": true
   },
   "outputs": [],
   "source": [
    "EMBEDDING_SIZE = 128\n",
    "HIDDEN_LAYER_SIZE = 64\n",
    "BATCH_SIZE = 32\n",
    "NUM_EPOCHS = 150\n",
    "\n",
    "model = Sequential()\n",
    "model.add(Embedding(vocab_size, EMBEDDING_SIZE,\n",
    "input_length=MAX_SENTENCE_LENGTH))\n",
    "model.add(Dropout(0.2))\n",
    "model.add(SpatialDropout1D(0.2))\n",
    "model.add(LSTM(HIDDEN_LAYER_SIZE, dropout=0.2, recurrent_dropout=0.2))\n",
    "model.add(Dense(3,activation='softmax'))\n",
    "# model.add(Activation(\"softmax\",input_shape=(2)))\n",
    "\n",
    "model.compile(loss=\"categorical_crossentropy\", optimizer=\"adam\",\n",
    "    metrics=[\"accuracy\"])\n"
   ]
  },
  {
   "cell_type": "code",
   "execution_count": 31,
   "metadata": {},
   "outputs": [
    {
     "name": "stdout",
     "output_type": "stream",
     "text": [
      "Train on 2196 samples, validate on 550 samples\n",
      "Epoch 1/150\n",
      "2196/2196 [==============================] - 5s 2ms/step - loss: 1.0596 - acc: 0.4622 - val_loss: 1.0125 - val_acc: 0.5055\n",
      "Epoch 2/150\n",
      "2196/2196 [==============================] - 3s 2ms/step - loss: 0.9646 - acc: 0.5401 - val_loss: 0.9470 - val_acc: 0.5582\n",
      "Epoch 3/150\n",
      "2196/2196 [==============================] - 4s 2ms/step - loss: 0.9179 - acc: 0.5656 - val_loss: 0.9214 - val_acc: 0.5727\n",
      "Epoch 4/150\n",
      "2196/2196 [==============================] - 4s 2ms/step - loss: 0.9109 - acc: 0.5742 - val_loss: 0.9191 - val_acc: 0.5655\n",
      "Epoch 5/150\n",
      "2196/2196 [==============================] - 4s 2ms/step - loss: 0.8914 - acc: 0.5870 - val_loss: 0.9148 - val_acc: 0.5618\n",
      "Epoch 6/150\n",
      "2196/2196 [==============================] - 4s 2ms/step - loss: 0.8838 - acc: 0.5797 - val_loss: 0.9084 - val_acc: 0.5691\n",
      "Epoch 7/150\n",
      "2196/2196 [==============================] - 4s 2ms/step - loss: 0.8746 - acc: 0.5970 - val_loss: 0.9219 - val_acc: 0.5727\n",
      "Epoch 8/150\n",
      "2196/2196 [==============================] - 4s 2ms/step - loss: 0.8708 - acc: 0.5938 - val_loss: 0.9160 - val_acc: 0.5673\n",
      "Epoch 9/150\n",
      "2196/2196 [==============================] - 4s 2ms/step - loss: 0.8613 - acc: 0.5970 - val_loss: 0.9184 - val_acc: 0.5691\n",
      "Epoch 10/150\n",
      "2196/2196 [==============================] - 4s 2ms/step - loss: 0.8606 - acc: 0.6047 - val_loss: 0.9176 - val_acc: 0.5727\n",
      "Epoch 11/150\n",
      "2196/2196 [==============================] - 4s 2ms/step - loss: 0.8595 - acc: 0.5984 - val_loss: 0.9187 - val_acc: 0.5673\n",
      "Epoch 12/150\n",
      "2196/2196 [==============================] - 4s 2ms/step - loss: 0.8515 - acc: 0.6029 - val_loss: 0.9172 - val_acc: 0.5782\n",
      "Epoch 13/150\n",
      "2196/2196 [==============================] - 4s 2ms/step - loss: 0.8440 - acc: 0.6148 - val_loss: 0.9219 - val_acc: 0.5800\n",
      "Epoch 14/150\n",
      "2196/2196 [==============================] - 4s 2ms/step - loss: 0.8419 - acc: 0.6097 - val_loss: 0.9269 - val_acc: 0.5473\n",
      "Epoch 15/150\n",
      "2196/2196 [==============================] - 4s 2ms/step - loss: 0.8428 - acc: 0.6079 - val_loss: 0.9221 - val_acc: 0.5727\n",
      "Epoch 16/150\n",
      "2196/2196 [==============================] - 4s 2ms/step - loss: 0.8480 - acc: 0.5952 - val_loss: 0.9266 - val_acc: 0.5618\n",
      "Epoch 17/150\n",
      "2196/2196 [==============================] - 4s 2ms/step - loss: 0.8396 - acc: 0.6011 - val_loss: 0.9254 - val_acc: 0.5745\n",
      "Epoch 18/150\n",
      "2196/2196 [==============================] - 4s 2ms/step - loss: 0.8354 - acc: 0.6084 - val_loss: 0.9277 - val_acc: 0.5727\n",
      "Epoch 19/150\n",
      "2196/2196 [==============================] - 4s 2ms/step - loss: 0.8289 - acc: 0.6125 - val_loss: 0.9300 - val_acc: 0.5745\n",
      "Epoch 20/150\n",
      "2196/2196 [==============================] - 4s 2ms/step - loss: 0.8348 - acc: 0.6043 - val_loss: 0.9202 - val_acc: 0.5745\n",
      "Epoch 21/150\n",
      "2196/2196 [==============================] - 4s 2ms/step - loss: 0.8267 - acc: 0.6225 - val_loss: 0.9298 - val_acc: 0.5618\n",
      "Epoch 22/150\n",
      "2196/2196 [==============================] - 4s 2ms/step - loss: 0.8281 - acc: 0.6061 - val_loss: 0.9324 - val_acc: 0.5564\n",
      "Epoch 23/150\n",
      "2196/2196 [==============================] - 4s 2ms/step - loss: 0.8221 - acc: 0.6079 - val_loss: 0.9423 - val_acc: 0.5709\n",
      "Epoch 24/150\n",
      "2196/2196 [==============================] - 4s 2ms/step - loss: 0.8258 - acc: 0.6152 - val_loss: 0.9371 - val_acc: 0.5618\n",
      "Epoch 25/150\n",
      "2196/2196 [==============================] - 4s 2ms/step - loss: 0.8181 - acc: 0.6211 - val_loss: 0.9589 - val_acc: 0.5582\n",
      "Epoch 26/150\n",
      "2196/2196 [==============================] - 4s 2ms/step - loss: 0.8069 - acc: 0.6198 - val_loss: 0.9529 - val_acc: 0.5545\n",
      "Epoch 27/150\n",
      "2196/2196 [==============================] - 4s 2ms/step - loss: 0.8208 - acc: 0.6189 - val_loss: 0.9556 - val_acc: 0.5673\n",
      "Epoch 28/150\n",
      "2196/2196 [==============================] - 4s 2ms/step - loss: 0.8133 - acc: 0.6184 - val_loss: 0.9592 - val_acc: 0.5582\n",
      "Epoch 29/150\n",
      "2196/2196 [==============================] - 4s 2ms/step - loss: 0.8137 - acc: 0.6170 - val_loss: 0.9612 - val_acc: 0.5636\n",
      "Epoch 30/150\n",
      "2196/2196 [==============================] - 4s 2ms/step - loss: 0.8150 - acc: 0.6170 - val_loss: 0.9627 - val_acc: 0.5655\n",
      "Epoch 31/150\n",
      "2196/2196 [==============================] - 4s 2ms/step - loss: 0.8011 - acc: 0.6193 - val_loss: 0.9655 - val_acc: 0.5618\n",
      "Epoch 32/150\n",
      "2196/2196 [==============================] - 4s 2ms/step - loss: 0.8029 - acc: 0.6207 - val_loss: 0.9710 - val_acc: 0.5545\n",
      "Epoch 33/150\n",
      "2196/2196 [==============================] - 4s 2ms/step - loss: 0.7960 - acc: 0.6289 - val_loss: 0.9780 - val_acc: 0.5636\n",
      "Epoch 34/150\n",
      "2196/2196 [==============================] - 4s 2ms/step - loss: 0.7967 - acc: 0.6225 - val_loss: 0.9709 - val_acc: 0.5636\n",
      "Epoch 35/150\n",
      "2196/2196 [==============================] - 4s 2ms/step - loss: 0.7940 - acc: 0.6220 - val_loss: 0.9951 - val_acc: 0.5455\n",
      "Epoch 36/150\n",
      "2196/2196 [==============================] - 4s 2ms/step - loss: 0.7968 - acc: 0.6352 - val_loss: 0.9846 - val_acc: 0.5527\n",
      "Epoch 37/150\n",
      "2196/2196 [==============================] - 4s 2ms/step - loss: 0.7882 - acc: 0.6252 - val_loss: 0.9975 - val_acc: 0.5527\n",
      "Epoch 38/150\n",
      "2196/2196 [==============================] - 4s 2ms/step - loss: 0.7915 - acc: 0.6343 - val_loss: 1.0027 - val_acc: 0.5582\n",
      "Epoch 39/150\n",
      "2196/2196 [==============================] - 4s 2ms/step - loss: 0.7831 - acc: 0.6343 - val_loss: 1.0067 - val_acc: 0.5527\n",
      "Epoch 40/150\n",
      "2196/2196 [==============================] - 4s 2ms/step - loss: 0.7813 - acc: 0.6330 - val_loss: 1.0263 - val_acc: 0.5618\n",
      "Epoch 41/150\n",
      "2196/2196 [==============================] - 4s 2ms/step - loss: 0.7824 - acc: 0.6325 - val_loss: 1.0062 - val_acc: 0.5618\n",
      "Epoch 42/150\n",
      "2196/2196 [==============================] - 4s 2ms/step - loss: 0.7890 - acc: 0.6284 - val_loss: 1.0037 - val_acc: 0.5545\n",
      "Epoch 43/150\n",
      "2196/2196 [==============================] - 4s 2ms/step - loss: 0.7754 - acc: 0.6330 - val_loss: 1.0154 - val_acc: 0.5564\n",
      "Epoch 44/150\n",
      "2196/2196 [==============================] - 4s 2ms/step - loss: 0.7713 - acc: 0.6330 - val_loss: 1.0160 - val_acc: 0.5673\n",
      "Epoch 45/150\n",
      "2196/2196 [==============================] - 4s 2ms/step - loss: 0.7682 - acc: 0.6371 - val_loss: 1.0418 - val_acc: 0.5673\n",
      "Epoch 46/150\n",
      "2196/2196 [==============================] - 4s 2ms/step - loss: 0.7704 - acc: 0.6348 - val_loss: 1.0298 - val_acc: 0.5618\n",
      "Epoch 47/150\n",
      "2196/2196 [==============================] - 4s 2ms/step - loss: 0.7691 - acc: 0.6330 - val_loss: 1.0339 - val_acc: 0.5491\n",
      "Epoch 48/150\n",
      "2196/2196 [==============================] - 4s 2ms/step - loss: 0.7631 - acc: 0.6384 - val_loss: 1.0462 - val_acc: 0.5491\n",
      "Epoch 49/150\n",
      "2196/2196 [==============================] - 4s 2ms/step - loss: 0.7662 - acc: 0.6407 - val_loss: 1.0683 - val_acc: 0.5545\n",
      "Epoch 50/150\n",
      "2196/2196 [==============================] - 4s 2ms/step - loss: 0.7593 - acc: 0.6439 - val_loss: 1.0390 - val_acc: 0.5509\n",
      "Epoch 51/150\n",
      "2196/2196 [==============================] - 4s 2ms/step - loss: 0.7541 - acc: 0.6480 - val_loss: 1.0363 - val_acc: 0.5509\n",
      "Epoch 52/150\n",
      "2196/2196 [==============================] - 4s 2ms/step - loss: 0.7560 - acc: 0.6380 - val_loss: 1.0662 - val_acc: 0.5455\n",
      "Epoch 53/150\n",
      "2196/2196 [==============================] - 4s 2ms/step - loss: 0.7509 - acc: 0.6416 - val_loss: 1.0594 - val_acc: 0.5618\n",
      "Epoch 54/150\n",
      "2196/2196 [==============================] - 4s 2ms/step - loss: 0.7503 - acc: 0.6448 - val_loss: 1.0757 - val_acc: 0.5527\n",
      "Epoch 55/150\n",
      "2196/2196 [==============================] - 4s 2ms/step - loss: 0.7528 - acc: 0.6412 - val_loss: 1.0593 - val_acc: 0.5545\n",
      "Epoch 56/150\n",
      "2196/2196 [==============================] - 4s 2ms/step - loss: 0.7487 - acc: 0.6425 - val_loss: 1.0586 - val_acc: 0.5491\n",
      "Epoch 57/150\n",
      "2196/2196 [==============================] - 4s 2ms/step - loss: 0.7371 - acc: 0.6498 - val_loss: 1.0713 - val_acc: 0.5564\n",
      "Epoch 58/150\n",
      "2196/2196 [==============================] - 4s 2ms/step - loss: 0.7439 - acc: 0.6471 - val_loss: 1.0809 - val_acc: 0.5473\n",
      "Epoch 59/150\n",
      "2196/2196 [==============================] - 4s 2ms/step - loss: 0.7363 - acc: 0.6612 - val_loss: 1.0720 - val_acc: 0.5491\n",
      "Epoch 60/150\n",
      "2196/2196 [==============================] - 4s 2ms/step - loss: 0.7366 - acc: 0.6598 - val_loss: 1.0963 - val_acc: 0.5527\n"
     ]
    },
    {
     "name": "stdout",
     "output_type": "stream",
     "text": [
      "Epoch 61/150\n",
      "2196/2196 [==============================] - 4s 2ms/step - loss: 0.7327 - acc: 0.6553 - val_loss: 1.0897 - val_acc: 0.5491\n",
      "Epoch 62/150\n",
      "2196/2196 [==============================] - 4s 2ms/step - loss: 0.7302 - acc: 0.6680 - val_loss: 1.0721 - val_acc: 0.5473\n",
      "Epoch 63/150\n",
      "2196/2196 [==============================] - 4s 2ms/step - loss: 0.7299 - acc: 0.6612 - val_loss: 1.0772 - val_acc: 0.5309\n",
      "Epoch 64/150\n",
      "2196/2196 [==============================] - 4s 2ms/step - loss: 0.7244 - acc: 0.6594 - val_loss: 1.1035 - val_acc: 0.5382\n",
      "Epoch 65/150\n",
      "2196/2196 [==============================] - 4s 2ms/step - loss: 0.7242 - acc: 0.6594 - val_loss: 1.0967 - val_acc: 0.5436\n",
      "Epoch 66/150\n",
      "2196/2196 [==============================] - 4s 2ms/step - loss: 0.7214 - acc: 0.6553 - val_loss: 1.1042 - val_acc: 0.5509\n",
      "Epoch 67/150\n",
      "2196/2196 [==============================] - 4s 2ms/step - loss: 0.7209 - acc: 0.6571 - val_loss: 1.1151 - val_acc: 0.5473\n",
      "Epoch 68/150\n",
      "2196/2196 [==============================] - 4s 2ms/step - loss: 0.7130 - acc: 0.6617 - val_loss: 1.1010 - val_acc: 0.5364\n",
      "Epoch 69/150\n",
      "2196/2196 [==============================] - 4s 2ms/step - loss: 0.7132 - acc: 0.6658 - val_loss: 1.1158 - val_acc: 0.5327\n",
      "Epoch 70/150\n",
      "2196/2196 [==============================] - 3s 2ms/step - loss: 0.7108 - acc: 0.6630 - val_loss: 1.1190 - val_acc: 0.5345\n",
      "Epoch 71/150\n",
      "2196/2196 [==============================] - 4s 2ms/step - loss: 0.7118 - acc: 0.6653 - val_loss: 1.1135 - val_acc: 0.5364\n",
      "Epoch 72/150\n",
      "2196/2196 [==============================] - 4s 2ms/step - loss: 0.7104 - acc: 0.6662 - val_loss: 1.1386 - val_acc: 0.5327\n",
      "Epoch 73/150\n",
      "2196/2196 [==============================] - 4s 2ms/step - loss: 0.7096 - acc: 0.6653 - val_loss: 1.1406 - val_acc: 0.5327\n",
      "Epoch 74/150\n",
      "2196/2196 [==============================] - 3s 2ms/step - loss: 0.7008 - acc: 0.6708 - val_loss: 1.1434 - val_acc: 0.5382\n",
      "Epoch 75/150\n",
      "2196/2196 [==============================] - 4s 2ms/step - loss: 0.6995 - acc: 0.6744 - val_loss: 1.1456 - val_acc: 0.5382\n",
      "Epoch 76/150\n",
      "2196/2196 [==============================] - 4s 2ms/step - loss: 0.6999 - acc: 0.6721 - val_loss: 1.1618 - val_acc: 0.5309\n",
      "Epoch 77/150\n",
      "2196/2196 [==============================] - 4s 2ms/step - loss: 0.6931 - acc: 0.6735 - val_loss: 1.1719 - val_acc: 0.5382\n",
      "Epoch 78/150\n",
      "2196/2196 [==============================] - 3s 2ms/step - loss: 0.6947 - acc: 0.6753 - val_loss: 1.1622 - val_acc: 0.5218\n",
      "Epoch 79/150\n",
      "2196/2196 [==============================] - 3s 2ms/step - loss: 0.6929 - acc: 0.6667 - val_loss: 1.1824 - val_acc: 0.5273\n",
      "Epoch 80/150\n",
      "2196/2196 [==============================] - 4s 2ms/step - loss: 0.6873 - acc: 0.6776 - val_loss: 1.1661 - val_acc: 0.5255\n",
      "Epoch 81/150\n",
      "2196/2196 [==============================] - 3s 2ms/step - loss: 0.6827 - acc: 0.6831 - val_loss: 1.1717 - val_acc: 0.5309\n",
      "Epoch 82/150\n",
      "2196/2196 [==============================] - 4s 2ms/step - loss: 0.6823 - acc: 0.6803 - val_loss: 1.1727 - val_acc: 0.5273\n",
      "Epoch 83/150\n",
      "2196/2196 [==============================] - 4s 2ms/step - loss: 0.6841 - acc: 0.6785 - val_loss: 1.1953 - val_acc: 0.5309\n",
      "Epoch 84/150\n",
      "2196/2196 [==============================] - 4s 2ms/step - loss: 0.6772 - acc: 0.6749 - val_loss: 1.1960 - val_acc: 0.5236\n",
      "Epoch 85/150\n",
      "2196/2196 [==============================] - 4s 2ms/step - loss: 0.6760 - acc: 0.6858 - val_loss: 1.2006 - val_acc: 0.5309\n",
      "Epoch 86/150\n",
      "2196/2196 [==============================] - 4s 2ms/step - loss: 0.6797 - acc: 0.6726 - val_loss: 1.1914 - val_acc: 0.5273\n",
      "Epoch 87/150\n",
      "2196/2196 [==============================] - 4s 2ms/step - loss: 0.6801 - acc: 0.6785 - val_loss: 1.1786 - val_acc: 0.5327\n",
      "Epoch 88/150\n",
      "2196/2196 [==============================] - 3s 2ms/step - loss: 0.6748 - acc: 0.6835 - val_loss: 1.1888 - val_acc: 0.5345\n",
      "Epoch 89/150\n",
      "2196/2196 [==============================] - 4s 2ms/step - loss: 0.6687 - acc: 0.6853 - val_loss: 1.2245 - val_acc: 0.5182\n",
      "Epoch 90/150\n",
      "2196/2196 [==============================] - 3s 2ms/step - loss: 0.6674 - acc: 0.6849 - val_loss: 1.1955 - val_acc: 0.5164\n",
      "Epoch 91/150\n",
      "2196/2196 [==============================] - 4s 2ms/step - loss: 0.6703 - acc: 0.6849 - val_loss: 1.1922 - val_acc: 0.5236\n",
      "Epoch 92/150\n",
      "2196/2196 [==============================] - 3s 2ms/step - loss: 0.6620 - acc: 0.6917 - val_loss: 1.2163 - val_acc: 0.5218\n",
      "Epoch 93/150\n",
      "2196/2196 [==============================] - 4s 2ms/step - loss: 0.6615 - acc: 0.6849 - val_loss: 1.2192 - val_acc: 0.5273\n",
      "Epoch 94/150\n",
      "2196/2196 [==============================] - 4s 2ms/step - loss: 0.6598 - acc: 0.7008 - val_loss: 1.2197 - val_acc: 0.5236\n",
      "Epoch 95/150\n",
      "2196/2196 [==============================] - 4s 2ms/step - loss: 0.6542 - acc: 0.6903 - val_loss: 1.2262 - val_acc: 0.5218\n",
      "Epoch 96/150\n",
      "2196/2196 [==============================] - 3s 2ms/step - loss: 0.6505 - acc: 0.6940 - val_loss: 1.2127 - val_acc: 0.5273\n",
      "Epoch 97/150\n",
      "2196/2196 [==============================] - 4s 2ms/step - loss: 0.6406 - acc: 0.7004 - val_loss: 1.2436 - val_acc: 0.5255\n",
      "Epoch 98/150\n",
      "2196/2196 [==============================] - 4s 2ms/step - loss: 0.6545 - acc: 0.6958 - val_loss: 1.2103 - val_acc: 0.5273\n",
      "Epoch 99/150\n",
      "2196/2196 [==============================] - 3s 2ms/step - loss: 0.6417 - acc: 0.7022 - val_loss: 1.2139 - val_acc: 0.5236\n",
      "Epoch 100/150\n",
      "2196/2196 [==============================] - 3s 2ms/step - loss: 0.6338 - acc: 0.7090 - val_loss: 1.2406 - val_acc: 0.5182\n",
      "Epoch 101/150\n",
      "2196/2196 [==============================] - 3s 2ms/step - loss: 0.6390 - acc: 0.7022 - val_loss: 1.2458 - val_acc: 0.5236\n",
      "Epoch 102/150\n",
      "2196/2196 [==============================] - 4s 2ms/step - loss: 0.6447 - acc: 0.7031 - val_loss: 1.2534 - val_acc: 0.5236\n",
      "Epoch 103/150\n",
      "2196/2196 [==============================] - 4s 2ms/step - loss: 0.6243 - acc: 0.7031 - val_loss: 1.2488 - val_acc: 0.5218\n",
      "Epoch 104/150\n",
      "2196/2196 [==============================] - 4s 2ms/step - loss: 0.6238 - acc: 0.7058 - val_loss: 1.2457 - val_acc: 0.5182\n",
      "Epoch 105/150\n",
      "2196/2196 [==============================] - 4s 2ms/step - loss: 0.6260 - acc: 0.7067 - val_loss: 1.2702 - val_acc: 0.5182\n",
      "Epoch 106/150\n",
      "2196/2196 [==============================] - 4s 2ms/step - loss: 0.6284 - acc: 0.7063 - val_loss: 1.2666 - val_acc: 0.5218\n",
      "Epoch 107/150\n",
      "2196/2196 [==============================] - 4s 2ms/step - loss: 0.6247 - acc: 0.7122 - val_loss: 1.2789 - val_acc: 0.5182\n",
      "Epoch 108/150\n",
      "2196/2196 [==============================] - 4s 2ms/step - loss: 0.6276 - acc: 0.7099 - val_loss: 1.2702 - val_acc: 0.5145\n",
      "Epoch 109/150\n",
      "2196/2196 [==============================] - 4s 2ms/step - loss: 0.6218 - acc: 0.7127 - val_loss: 1.2927 - val_acc: 0.5236\n",
      "Epoch 110/150\n",
      "2196/2196 [==============================] - 3s 2ms/step - loss: 0.6182 - acc: 0.7190 - val_loss: 1.2709 - val_acc: 0.5255\n",
      "Epoch 111/150\n",
      "2196/2196 [==============================] - 4s 2ms/step - loss: 0.6166 - acc: 0.7131 - val_loss: 1.2878 - val_acc: 0.5218\n",
      "Epoch 112/150\n",
      "2196/2196 [==============================] - 4s 2ms/step - loss: 0.6206 - acc: 0.7108 - val_loss: 1.2954 - val_acc: 0.5273\n",
      "Epoch 113/150\n",
      "2196/2196 [==============================] - 4s 2ms/step - loss: 0.6161 - acc: 0.7158 - val_loss: 1.3060 - val_acc: 0.5200\n",
      "Epoch 114/150\n",
      "2196/2196 [==============================] - 4s 2ms/step - loss: 0.6235 - acc: 0.7181 - val_loss: 1.3053 - val_acc: 0.5109\n",
      "Epoch 115/150\n",
      "2196/2196 [==============================] - 4s 2ms/step - loss: 0.5966 - acc: 0.7209 - val_loss: 1.3133 - val_acc: 0.5109\n",
      "Epoch 116/150\n",
      "2196/2196 [==============================] - 4s 2ms/step - loss: 0.5941 - acc: 0.7272 - val_loss: 1.3271 - val_acc: 0.5145\n",
      "Epoch 117/150\n",
      "2196/2196 [==============================] - 3s 2ms/step - loss: 0.6057 - acc: 0.7145 - val_loss: 1.3319 - val_acc: 0.5091\n",
      "Epoch 118/150\n",
      "2196/2196 [==============================] - 4s 2ms/step - loss: 0.6049 - acc: 0.7108 - val_loss: 1.3293 - val_acc: 0.5127\n",
      "Epoch 119/150\n",
      "2196/2196 [==============================] - 4s 2ms/step - loss: 0.6052 - acc: 0.7204 - val_loss: 1.3324 - val_acc: 0.5164\n",
      "Epoch 120/150\n",
      "2196/2196 [==============================] - 4s 2ms/step - loss: 0.6010 - acc: 0.7177 - val_loss: 1.3192 - val_acc: 0.5164\n",
      "Epoch 121/150\n"
     ]
    },
    {
     "name": "stdout",
     "output_type": "stream",
     "text": [
      "2196/2196 [==============================] - 3s 2ms/step - loss: 0.6001 - acc: 0.7149 - val_loss: 1.3234 - val_acc: 0.5164\n",
      "Epoch 122/150\n",
      "2196/2196 [==============================] - 3s 2ms/step - loss: 0.5875 - acc: 0.7254 - val_loss: 1.3289 - val_acc: 0.5127\n",
      "Epoch 123/150\n",
      "2196/2196 [==============================] - 3s 2ms/step - loss: 0.5897 - acc: 0.7236 - val_loss: 1.3350 - val_acc: 0.5127\n",
      "Epoch 124/150\n",
      "2196/2196 [==============================] - 3s 2ms/step - loss: 0.5941 - acc: 0.7209 - val_loss: 1.3435 - val_acc: 0.5000\n",
      "Epoch 125/150\n",
      "2196/2196 [==============================] - 4s 2ms/step - loss: 0.5849 - acc: 0.7254 - val_loss: 1.3489 - val_acc: 0.4982\n",
      "Epoch 126/150\n",
      "2196/2196 [==============================] - 3s 2ms/step - loss: 0.5826 - acc: 0.7277 - val_loss: 1.3670 - val_acc: 0.5145\n",
      "Epoch 127/150\n",
      "2196/2196 [==============================] - 3s 2ms/step - loss: 0.5768 - acc: 0.7391 - val_loss: 1.4013 - val_acc: 0.5127\n",
      "Epoch 128/150\n",
      "2196/2196 [==============================] - 3s 2ms/step - loss: 0.5849 - acc: 0.7209 - val_loss: 1.3786 - val_acc: 0.5109\n",
      "Epoch 129/150\n",
      "2196/2196 [==============================] - 3s 2ms/step - loss: 0.5841 - acc: 0.7263 - val_loss: 1.3699 - val_acc: 0.5145\n",
      "Epoch 130/150\n",
      "2196/2196 [==============================] - 4s 2ms/step - loss: 0.5815 - acc: 0.7309 - val_loss: 1.3790 - val_acc: 0.5073\n",
      "Epoch 131/150\n",
      "2196/2196 [==============================] - 3s 2ms/step - loss: 0.5730 - acc: 0.7286 - val_loss: 1.3992 - val_acc: 0.5182\n",
      "Epoch 132/150\n",
      "2196/2196 [==============================] - 3s 2ms/step - loss: 0.5832 - acc: 0.7263 - val_loss: 1.3747 - val_acc: 0.5127\n",
      "Epoch 133/150\n",
      "2196/2196 [==============================] - 3s 2ms/step - loss: 0.5664 - acc: 0.7309 - val_loss: 1.3745 - val_acc: 0.4909\n",
      "Epoch 134/150\n",
      "2196/2196 [==============================] - 4s 2ms/step - loss: 0.5677 - acc: 0.7372 - val_loss: 1.3997 - val_acc: 0.5091\n",
      "Epoch 135/150\n",
      "2196/2196 [==============================] - 3s 2ms/step - loss: 0.5706 - acc: 0.7341 - val_loss: 1.3873 - val_acc: 0.5109\n",
      "Epoch 136/150\n",
      "2196/2196 [==============================] - 3s 2ms/step - loss: 0.5762 - acc: 0.7268 - val_loss: 1.3912 - val_acc: 0.5073\n",
      "Epoch 137/150\n",
      "2196/2196 [==============================] - 3s 2ms/step - loss: 0.5650 - acc: 0.7413 - val_loss: 1.4124 - val_acc: 0.5127\n",
      "Epoch 138/150\n",
      "2196/2196 [==============================] - 3s 2ms/step - loss: 0.5626 - acc: 0.7372 - val_loss: 1.4046 - val_acc: 0.5127\n",
      "Epoch 139/150\n",
      "2196/2196 [==============================] - 4s 2ms/step - loss: 0.5796 - acc: 0.7245 - val_loss: 1.4101 - val_acc: 0.5200\n",
      "Epoch 140/150\n",
      "2196/2196 [==============================] - 3s 2ms/step - loss: 0.5627 - acc: 0.7427 - val_loss: 1.4374 - val_acc: 0.4927\n",
      "Epoch 141/150\n",
      "2196/2196 [==============================] - 3s 2ms/step - loss: 0.5637 - acc: 0.7409 - val_loss: 1.4175 - val_acc: 0.4927\n",
      "Epoch 142/150\n",
      "2196/2196 [==============================] - 3s 2ms/step - loss: 0.5516 - acc: 0.7423 - val_loss: 1.4302 - val_acc: 0.5073\n",
      "Epoch 143/150\n",
      "2196/2196 [==============================] - 3s 2ms/step - loss: 0.5467 - acc: 0.7391 - val_loss: 1.4513 - val_acc: 0.5036\n",
      "Epoch 144/150\n",
      "2196/2196 [==============================] - 4s 2ms/step - loss: 0.5603 - acc: 0.7313 - val_loss: 1.4763 - val_acc: 0.5218\n",
      "Epoch 145/150\n",
      "2196/2196 [==============================] - 3s 2ms/step - loss: 0.5555 - acc: 0.7277 - val_loss: 1.4875 - val_acc: 0.5127\n",
      "Epoch 146/150\n",
      "2196/2196 [==============================] - 3s 2ms/step - loss: 0.5573 - acc: 0.7441 - val_loss: 1.4924 - val_acc: 0.5145\n",
      "Epoch 147/150\n",
      "2196/2196 [==============================] - 3s 2ms/step - loss: 0.5508 - acc: 0.7386 - val_loss: 1.4728 - val_acc: 0.5073\n",
      "Epoch 148/150\n",
      "2196/2196 [==============================] - 4s 2ms/step - loss: 0.5552 - acc: 0.7345 - val_loss: 1.4774 - val_acc: 0.5000\n",
      "Epoch 149/150\n",
      "2196/2196 [==============================] - 3s 2ms/step - loss: 0.5493 - acc: 0.7450 - val_loss: 1.4699 - val_acc: 0.5073\n",
      "Epoch 150/150\n",
      "2196/2196 [==============================] - 4s 2ms/step - loss: 0.5518 - acc: 0.7363 - val_loss: 1.4836 - val_acc: 0.4945\n"
     ]
    }
   ],
   "source": [
    "history = model.fit(Xtrain, ytrain, batch_size=BATCH_SIZE, epochs=NUM_EPOCHS,\n",
    "    validation_data=(Xtest, ytest))\n"
   ]
  },
  {
   "cell_type": "code",
   "execution_count": null,
   "metadata": {
    "collapsed": true
   },
   "outputs": [],
   "source": []
  },
  {
   "cell_type": "code",
   "execution_count": null,
   "metadata": {
    "collapsed": true
   },
   "outputs": [],
   "source": []
  },
  {
   "cell_type": "code",
   "execution_count": null,
   "metadata": {
    "collapsed": true
   },
   "outputs": [],
   "source": []
  },
  {
   "cell_type": "markdown",
   "metadata": {
    "collapsed": true
   },
   "source": [
    "### on raw data not after prep"
   ]
  },
  {
   "cell_type": "code",
   "execution_count": 48,
   "metadata": {
    "collapsed": true
   },
   "outputs": [],
   "source": [
    "maxlen = 0\n",
    "word_freqs = collections.Counter()\n",
    "num_recs = 0\n",
    "ftrain = open(os.path.join(DATA_DIR, \"rawt.csv\"), 'rb')\n",
    "for line in ftrain:\n",
    "    label, sentence = line.strip().split(b\"\\t\")\n",
    "    words = nltk.word_tokenize(sentence.decode(\"ascii\", \"ignore\").lower())\n",
    "    if len(words) > maxlen:\n",
    "        maxlen = len(words)\n",
    "    for word in words:\n",
    "        word_freqs[word] += 1\n",
    "    num_recs += 1\n",
    "ftrain.close()\n"
   ]
  },
  {
   "cell_type": "code",
   "execution_count": 49,
   "metadata": {
    "collapsed": true
   },
   "outputs": [],
   "source": [
    "MAX_FEATURES = 2000\n",
    "MAX_SENTENCE_LENGTH = 40"
   ]
  },
  {
   "cell_type": "code",
   "execution_count": 50,
   "metadata": {
    "collapsed": true
   },
   "outputs": [],
   "source": [
    "vocab_size = min(MAX_FEATURES, len(word_freqs)) + 2\n",
    "word2index = {x[0]: i+2 for i, x in\n",
    "enumerate(word_freqs.most_common(MAX_FEATURES))}\n",
    "word2index[\"PAD\"] = 0\n",
    "word2index[\"UNK\"] = 1\n",
    "index2word = {v:k for k, v in word2index.items()}\n"
   ]
  },
  {
   "cell_type": "code",
   "execution_count": 51,
   "metadata": {
    "collapsed": true
   },
   "outputs": [],
   "source": [
    "X = np.empty((num_recs, ), dtype=list)\n",
    "y = np.zeros((num_recs, ))\n",
    "i = 0\n",
    "ftrain = open(os.path.join(DATA_DIR, \"rawt.csv\"), 'rb')\n",
    "for line in ftrain:\n",
    "    label, sentence = line.strip().split(b\"\\t\")\n",
    "    words = nltk.word_tokenize(sentence.decode(\"ascii\", \"ignore\").lower())\n",
    "    seqs = []\n",
    "    for word in words:\n",
    "        if word in word2index:\n",
    "            seqs.append(word2index[word])\n",
    "        else:\n",
    "            seqs.append(word2index[\"UNK\"])\n",
    "    X[i] = seqs\n",
    "    y[i] = int(label)\n",
    "    i += 1\n",
    "ftrain.close()\n",
    "X = sequence.pad_sequences(X, maxlen=MAX_SENTENCE_LENGTH)\n"
   ]
  },
  {
   "cell_type": "code",
   "execution_count": 52,
   "metadata": {
    "collapsed": true
   },
   "outputs": [],
   "source": [
    "from keras.utils import to_categorical\n",
    "y_binary = to_categorical(y)"
   ]
  },
  {
   "cell_type": "code",
   "execution_count": 53,
   "metadata": {},
   "outputs": [
    {
     "data": {
      "text/plain": [
       "array([[1., 0., 0.],\n",
       "       [0., 1., 0.],\n",
       "       [0., 1., 0.],\n",
       "       ...,\n",
       "       [0., 1., 0.],\n",
       "       [1., 0., 0.],\n",
       "       [0., 0., 1.]], dtype=float32)"
      ]
     },
     "execution_count": 53,
     "metadata": {},
     "output_type": "execute_result"
    }
   ],
   "source": [
    "y_binary"
   ]
  },
  {
   "cell_type": "code",
   "execution_count": 54,
   "metadata": {
    "collapsed": true
   },
   "outputs": [],
   "source": [
    "Xtrain, Xtest, ytrain, ytest = train_test_split(X, y_binary, test_size=0.2, random_state=42)\n"
   ]
  },
  {
   "cell_type": "code",
   "execution_count": 55,
   "metadata": {},
   "outputs": [
    {
     "data": {
      "text/plain": [
       "array([[1., 0., 0.],\n",
       "       [0., 1., 0.],\n",
       "       [0., 1., 0.],\n",
       "       ...,\n",
       "       [0., 1., 0.],\n",
       "       [0., 1., 0.],\n",
       "       [0., 1., 0.]], dtype=float32)"
      ]
     },
     "execution_count": 55,
     "metadata": {},
     "output_type": "execute_result"
    }
   ],
   "source": [
    "ytrain"
   ]
  },
  {
   "cell_type": "code",
   "execution_count": 77,
   "metadata": {
    "collapsed": true
   },
   "outputs": [],
   "source": [
    "EMBEDDING_SIZE = 128\n",
    "HIDDEN_LAYER_SIZE = 64\n",
    "BATCH_SIZE = 32\n",
    "NUM_EPOCHS = 20\n",
    "\n",
    "model = Sequential()\n",
    "model.add(Embedding(vocab_size, EMBEDDING_SIZE,\n",
    "input_length=MAX_SENTENCE_LENGTH))\n",
    "model.add(Dropout(0.2))\n",
    "model.add(SpatialDropout1D(0.2))\n",
    "model.add(LSTM(HIDDEN_LAYER_SIZE, dropout=0.2, recurrent_dropout=0.2))\n",
    "# model.add(SpatialDropout1D(0.2))\n",
    "model.add(Dense(35,activation='relu'))\n",
    "model.add(Dropout(0.6))\n",
    "# model.add(SpatialDropout1D(0.2))\n",
    "# model.add(LSTM(10, dropout=0.2, recurrent_dropout=0.2))\n",
    "model.add(Dense(3,activation='softmax'))\n",
    "# model.add(Activation(\"softmax\",input_shape=(2)))\n",
    "\n",
    "model.compile(loss=\"categorical_crossentropy\", optimizer=\"adam\",\n",
    "    metrics=[\"mae\",'acc'])\n"
   ]
  },
  {
   "cell_type": "code",
   "execution_count": 78,
   "metadata": {
    "scrolled": true
   },
   "outputs": [
    {
     "name": "stdout",
     "output_type": "stream",
     "text": [
      "Train on 2196 samples, validate on 550 samples\n",
      "Epoch 1/20\n",
      "2196/2196 [==============================] - 7s 3ms/step - loss: 1.0843 - mean_absolute_error: 0.4386 - acc: 0.3916 - val_loss: 1.0822 - val_mean_absolute_error: 0.4382 - val_acc: 0.4073\n",
      "Epoch 2/20\n",
      "2196/2196 [==============================] - 4s 2ms/step - loss: 1.0645 - mean_absolute_error: 0.4312 - acc: 0.4230 - val_loss: 1.0694 - val_mean_absolute_error: 0.4342 - val_acc: 0.3927\n",
      "Epoch 3/20\n",
      "2196/2196 [==============================] - 4s 2ms/step - loss: 1.0517 - mean_absolute_error: 0.4269 - acc: 0.4572 - val_loss: 1.0511 - val_mean_absolute_error: 0.4268 - val_acc: 0.4600\n",
      "Epoch 4/20\n",
      "2196/2196 [==============================] - 4s 2ms/step - loss: 1.0098 - mean_absolute_error: 0.4122 - acc: 0.5055 - val_loss: 1.0308 - val_mean_absolute_error: 0.4200 - val_acc: 0.4564\n",
      "Epoch 5/20\n",
      "2196/2196 [==============================] - 4s 2ms/step - loss: 0.9207 - mean_absolute_error: 0.3792 - acc: 0.5729 - val_loss: 1.0381 - val_mean_absolute_error: 0.4078 - val_acc: 0.4655\n",
      "Epoch 6/20\n",
      "2196/2196 [==============================] - 4s 2ms/step - loss: 0.8022 - mean_absolute_error: 0.3281 - acc: 0.6535 - val_loss: 1.0531 - val_mean_absolute_error: 0.4033 - val_acc: 0.4764\n",
      "Epoch 7/20\n",
      "2196/2196 [==============================] - 4s 2ms/step - loss: 0.7098 - mean_absolute_error: 0.2854 - acc: 0.6762 - val_loss: 1.1352 - val_mean_absolute_error: 0.3971 - val_acc: 0.4455\n",
      "Epoch 8/20\n",
      "2196/2196 [==============================] - 4s 2ms/step - loss: 0.6628 - mean_absolute_error: 0.2654 - acc: 0.6954 - val_loss: 1.1694 - val_mean_absolute_error: 0.3965 - val_acc: 0.4545\n",
      "Epoch 9/20\n",
      "2196/2196 [==============================] - 4s 2ms/step - loss: 0.6427 - mean_absolute_error: 0.2533 - acc: 0.6935 - val_loss: 1.1645 - val_mean_absolute_error: 0.4013 - val_acc: 0.4527\n",
      "Epoch 10/20\n",
      "2196/2196 [==============================] - 4s 2ms/step - loss: 0.6108 - mean_absolute_error: 0.2470 - acc: 0.6967 - val_loss: 1.2679 - val_mean_absolute_error: 0.4034 - val_acc: 0.4709\n",
      "Epoch 11/20\n",
      "2196/2196 [==============================] - 4s 2ms/step - loss: 0.6046 - mean_absolute_error: 0.2403 - acc: 0.7081 - val_loss: 1.2906 - val_mean_absolute_error: 0.3969 - val_acc: 0.4491\n",
      "Epoch 12/20\n",
      "2196/2196 [==============================] - 4s 2ms/step - loss: 0.5861 - mean_absolute_error: 0.2324 - acc: 0.7117 - val_loss: 1.4164 - val_mean_absolute_error: 0.3922 - val_acc: 0.4564\n",
      "Epoch 13/20\n",
      "2196/2196 [==============================] - 4s 2ms/step - loss: 0.5980 - mean_absolute_error: 0.2350 - acc: 0.7117 - val_loss: 1.2720 - val_mean_absolute_error: 0.4009 - val_acc: 0.4491\n",
      "Epoch 14/20\n",
      "2196/2196 [==============================] - 4s 2ms/step - loss: 0.5863 - mean_absolute_error: 0.2344 - acc: 0.7131 - val_loss: 1.3271 - val_mean_absolute_error: 0.3961 - val_acc: 0.4527\n",
      "Epoch 15/20\n",
      "2196/2196 [==============================] - 4s 2ms/step - loss: 0.5762 - mean_absolute_error: 0.2278 - acc: 0.7186 - val_loss: 1.3053 - val_mean_absolute_error: 0.3954 - val_acc: 0.4582\n",
      "Epoch 16/20\n",
      "2196/2196 [==============================] - 4s 2ms/step - loss: 0.5560 - mean_absolute_error: 0.2227 - acc: 0.7277 - val_loss: 1.5371 - val_mean_absolute_error: 0.3884 - val_acc: 0.4582\n",
      "Epoch 17/20\n",
      "2196/2196 [==============================] - 4s 2ms/step - loss: 0.5660 - mean_absolute_error: 0.2236 - acc: 0.7218 - val_loss: 1.3468 - val_mean_absolute_error: 0.3954 - val_acc: 0.4527\n",
      "Epoch 18/20\n",
      "2196/2196 [==============================] - 4s 2ms/step - loss: 0.5494 - mean_absolute_error: 0.2186 - acc: 0.7231 - val_loss: 1.3791 - val_mean_absolute_error: 0.3993 - val_acc: 0.4436\n",
      "Epoch 19/20\n",
      "2196/2196 [==============================] - 4s 2ms/step - loss: 0.5418 - mean_absolute_error: 0.2174 - acc: 0.7304 - val_loss: 1.3862 - val_mean_absolute_error: 0.3922 - val_acc: 0.4491\n",
      "Epoch 20/20\n",
      "2196/2196 [==============================] - 4s 2ms/step - loss: 0.5440 - mean_absolute_error: 0.2164 - acc: 0.7332 - val_loss: 1.4141 - val_mean_absolute_error: 0.3946 - val_acc: 0.4600\n"
     ]
    }
   ],
   "source": [
    "history = model.fit(Xtrain, ytrain, batch_size=BATCH_SIZE, epochs=NUM_EPOCHS,\n",
    "    validation_data=(Xtest, ytest))\n"
   ]
  },
  {
   "cell_type": "markdown",
   "metadata": {},
   "source": [
    "# worse than the afterprep accuracy\n",
    "### Overfitting "
   ]
  },
  {
   "cell_type": "code",
   "execution_count": 79,
   "metadata": {},
   "outputs": [
    {
     "data": {
      "image/png": "[encoded data removed]",
      "text/plain": [
       "<matplotlib.figure.Figure at 0x7f11e2908e10>"
      ]
     },
     "metadata": {},
     "output_type": "display_data"
    },
    {
     "data": {
      "image/png": "[encoded data removed]",
      "text/plain": [
       "<matplotlib.figure.Figure at 0x7f11e4c0c7b8>"
      ]
     },
     "metadata": {},
     "output_type": "display_data"
    }
   ],
   "source": [
    "plt.plot(history.history['acc'])\n",
    "plt.plot(history.history['val_acc'])\n",
    "plt.title('Model accuracy')\n",
    "plt.ylabel('Accuracy')\n",
    "plt.xlabel('Epoch')\n",
    "plt.legend(['Train', 'Test'], loc='upper left')\n",
    "plt.show()\n",
    "\n",
    "# Plot training & validation loss values\n",
    "plt.plot(history.history['loss'])\n",
    "plt.plot(history.history['val_loss'])\n",
    "plt.title('Model loss')\n",
    "plt.ylabel('Loss')\n",
    "plt.xlabel('Epoch')\n",
    "plt.legend(['Train', 'Test'], loc='upper left')\n",
    "plt.show()"
   ]
  },
  {
   "cell_type": "code",
   "execution_count": null,
   "metadata": {
    "collapsed": true
   },
   "outputs": [],
   "source": []
  },
  {
   "cell_type": "code",
   "execution_count": null,
   "metadata": {
    "collapsed": true
   },
   "outputs": [],
   "source": []
  },
  {
   "cell_type": "code",
   "execution_count": null,
   "metadata": {
    "collapsed": true
   },
   "outputs": [],
   "source": []
  },
  {
   "cell_type": "code",
   "execution_count": null,
   "metadata": {
    "collapsed": true
   },
   "outputs": [],
   "source": []
  },
  {
   "cell_type": "markdown",
   "metadata": {
    "collapsed": true
   },
   "source": [
    "# higher accuracy with preprocessing "
   ]
  },
  {
   "cell_type": "code",
   "execution_count": 63,
   "metadata": {},
   "outputs": [
    {
     "data": {
      "image/png": "[encoded data removed]",
      "text/plain": [
       "<matplotlib.figure.Figure at 0x7f11e9c78198>"
      ]
     },
     "metadata": {},
     "output_type": "display_data"
    },
    {
     "data": {
      "image/png": "[encoded data removed]",
      "text/plain": [
       "<matplotlib.figure.Figure at 0x7f11e91f7550>"
      ]
     },
     "metadata": {},
     "output_type": "display_data"
    }
   ],
   "source": [
    "plt.plot(history.history['acc'])\n",
    "plt.plot(history.history['val_acc'])\n",
    "plt.title('Model accuracy')\n",
    "plt.ylabel('Accuracy')\n",
    "plt.xlabel('Epoch')\n",
    "plt.legend(['Train', 'Test'], loc='upper left')\n",
    "plt.show()\n",
    "\n",
    "# Plot training & validation loss values\n",
    "plt.plot(history.history['loss'])\n",
    "plt.plot(history.history['val_loss'])\n",
    "plt.title('Model loss')\n",
    "plt.ylabel('Loss')\n",
    "plt.xlabel('Epoch')\n",
    "plt.legend(['Train', 'Test'], loc='upper left')\n",
    "plt.show()"
   ]
  },
  {
   "cell_type": "code",
   "execution_count": null,
   "metadata": {
    "collapsed": true
   },
   "outputs": [],
   "source": []
  },
  {
   "cell_type": "code",
   "execution_count": null,
   "metadata": {
    "collapsed": true
   },
   "outputs": [],
   "source": []
  }
 ],
 "metadata": {
  "kernelspec": {
   "display_name": "Python 3",
   "language": "python",
   "name": "python3"
  },
  "language_info": {
   "codemirror_mode": {
    "name": "ipython",
    "version": 3
   },
   "file_extension": ".py",
   "mimetype": "text/x-python",
   "name": "python",
   "nbconvert_exporter": "python",
   "pygments_lexer": "ipython3",
   "version": "3.7.0"
  }
 },
 "nbformat": 4,
 "nbformat_minor": 2
}
